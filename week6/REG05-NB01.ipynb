{
 "cells": [
  {
   "cell_type": "markdown",
   "metadata": {},
   "source": [
    "# Regression Week 5: Feature Selection and LASSO (Interpretation)"
   ]
  },
  {
   "cell_type": "markdown",
   "metadata": {},
   "source": [
    "In this notebook, you will use LASSO to select features, building on a pre-implemented solver for LASSO (using Turi Create, though you can use other solvers). You will:\n",
    "* Run LASSO with different L1 penalties.\n",
    "* Choose best L1 penalty using a validation set.\n",
    "* Choose best L1 penalty using a validation set, with additional constraint on the size of subset.\n",
    "\n",
    "In the second notebook, you will implement your own LASSO solver, using coordinate descent. "
   ]
  },
  {
   "cell_type": "markdown",
   "metadata": {},
   "source": [
    "# Fire up Turi Create"
   ]
  },
  {
   "cell_type": "code",
   "execution_count": 1,
   "metadata": {},
   "outputs": [],
   "source": [
    "import turicreate"
   ]
  },
  {
   "cell_type": "markdown",
   "metadata": {},
   "source": [
    "# Load in house sales data\n",
    "\n",
    "Dataset is from house sales in King County, the region where the city of Seattle, WA is located."
   ]
  },
  {
   "cell_type": "code",
   "execution_count": 2,
   "metadata": {
    "scrolled": true
   },
   "outputs": [],
   "source": [
    "sales = turicreate.SFrame('home_data.sframe/')"
   ]
  },
  {
   "cell_type": "markdown",
   "metadata": {},
   "source": [
    "# Create new features"
   ]
  },
  {
   "cell_type": "markdown",
   "metadata": {},
   "source": [
    "As in Week 2, we consider features that are some transformations of inputs."
   ]
  },
  {
   "cell_type": "code",
   "execution_count": 3,
   "metadata": {},
   "outputs": [],
   "source": [
    "from math import log, sqrt\n",
    "sales['sqft_living_sqrt'] = sales['sqft_living'].apply(sqrt)\n",
    "sales['sqft_lot_sqrt'] = sales['sqft_lot'].apply(sqrt)\n",
    "sales['bedrooms_square'] = sales['bedrooms']*sales['bedrooms']\n",
    "\n",
    "# In the dataset, 'floors' was defined with type string, \n",
    "# so we'll convert them to float, before creating a new feature.\n",
    "sales['floors'] = sales['floors'].astype(float) \n",
    "sales['floors_square'] = sales['floors']*sales['floors']"
   ]
  },
  {
   "cell_type": "markdown",
   "metadata": {},
   "source": [
    "* Squaring bedrooms will increase the separation between not many bedrooms (e.g. 1) and lots of bedrooms (e.g. 4) since 1^2 = 1 but 4^2 = 16. Consequently this variable will mostly affect houses with many bedrooms.\n",
    "* On the other hand, taking square root of sqft_living will decrease the separation between big house and small house. The owner may not be exactly twice as happy for getting a house that is twice as big."
   ]
  },
  {
   "cell_type": "markdown",
   "metadata": {},
   "source": [
    "# Learn regression weights with L1 penalty"
   ]
  },
  {
   "cell_type": "markdown",
   "metadata": {},
   "source": [
    "Let us fit a model with all the features available, plus the features we just created above."
   ]
  },
  {
   "cell_type": "code",
   "execution_count": 4,
   "metadata": {},
   "outputs": [],
   "source": [
    "all_features = ['bedrooms', 'bedrooms_square',\n",
    "                'bathrooms',\n",
    "                'sqft_living', 'sqft_living_sqrt',\n",
    "                'sqft_lot', 'sqft_lot_sqrt',\n",
    "                'floors', 'floors_square',\n",
    "                'waterfront', 'view', 'condition', 'grade',\n",
    "                'sqft_above',\n",
    "                'sqft_basement',\n",
    "                'yr_built', 'yr_renovated']"
   ]
  },
  {
   "cell_type": "markdown",
   "metadata": {},
   "source": [
    "Applying L1 penalty requires adding an extra parameter (`l1_penalty`) to the linear regression call in Turi Create. (Other tools may have separate implementations of LASSO.)  Note that it's important to set `l2_penalty=0` to ensure we don't introduce an additional L2 penalty."
   ]
  },
  {
   "cell_type": "code",
   "execution_count": 5,
   "metadata": {},
   "outputs": [
    {
     "data": {
      "text/html": [
       "<pre>Linear regression:</pre>"
      ],
      "text/plain": [
       "Linear regression:"
      ]
     },
     "metadata": {},
     "output_type": "display_data"
    },
    {
     "data": {
      "text/html": [
       "<pre>--------------------------------------------------------</pre>"
      ],
      "text/plain": [
       "--------------------------------------------------------"
      ]
     },
     "metadata": {},
     "output_type": "display_data"
    },
    {
     "data": {
      "text/html": [
       "<pre>Number of examples          : 21613</pre>"
      ],
      "text/plain": [
       "Number of examples          : 21613"
      ]
     },
     "metadata": {},
     "output_type": "display_data"
    },
    {
     "data": {
      "text/html": [
       "<pre>Number of features          : 17</pre>"
      ],
      "text/plain": [
       "Number of features          : 17"
      ]
     },
     "metadata": {},
     "output_type": "display_data"
    },
    {
     "data": {
      "text/html": [
       "<pre>Number of unpacked features : 17</pre>"
      ],
      "text/plain": [
       "Number of unpacked features : 17"
      ]
     },
     "metadata": {},
     "output_type": "display_data"
    },
    {
     "data": {
      "text/html": [
       "<pre>Number of coefficients    : 18</pre>"
      ],
      "text/plain": [
       "Number of coefficients    : 18"
      ]
     },
     "metadata": {},
     "output_type": "display_data"
    },
    {
     "data": {
      "text/html": [
       "<pre>Starting Accelerated Gradient (FISTA)</pre>"
      ],
      "text/plain": [
       "Starting Accelerated Gradient (FISTA)"
      ]
     },
     "metadata": {},
     "output_type": "display_data"
    },
    {
     "data": {
      "text/html": [
       "<pre>--------------------------------------------------------</pre>"
      ],
      "text/plain": [
       "--------------------------------------------------------"
      ]
     },
     "metadata": {},
     "output_type": "display_data"
    },
    {
     "data": {
      "text/html": [
       "<pre>Tuning step size. First iteration could take longer than subsequent iterations.</pre>"
      ],
      "text/plain": [
       "Tuning step size. First iteration could take longer than subsequent iterations."
      ]
     },
     "metadata": {},
     "output_type": "display_data"
    },
    {
     "data": {
      "text/html": [
       "<pre>+-----------+----------+-----------+--------------+--------------------+---------------------------------+</pre>"
      ],
      "text/plain": [
       "+-----------+----------+-----------+--------------+--------------------+---------------------------------+"
      ]
     },
     "metadata": {},
     "output_type": "display_data"
    },
    {
     "data": {
      "text/html": [
       "<pre>| Iteration | Passes   | Step size | Elapsed Time | Training Max Error | Training Root-Mean-Square Error |</pre>"
      ],
      "text/plain": [
       "| Iteration | Passes   | Step size | Elapsed Time | Training Max Error | Training Root-Mean-Square Error |"
      ]
     },
     "metadata": {},
     "output_type": "display_data"
    },
    {
     "data": {
      "text/html": [
       "<pre>+-----------+----------+-----------+--------------+--------------------+---------------------------------+</pre>"
      ],
      "text/plain": [
       "+-----------+----------+-----------+--------------+--------------------+---------------------------------+"
      ]
     },
     "metadata": {},
     "output_type": "display_data"
    },
    {
     "data": {
      "text/html": [
       "<pre>| 0         | 1        | 1.000000  | 1.009989     | 7700000.000000     | 653047.733994                   |</pre>"
      ],
      "text/plain": [
       "| 0         | 1        | 1.000000  | 1.009989     | 7700000.000000     | 653047.733994                   |"
      ]
     },
     "metadata": {},
     "output_type": "display_data"
    },
    {
     "data": {
      "text/html": [
       "<pre>| 1         | 2        | 0.000002  | 1.263215     | 6962915.603493     | 426631.749026                   |</pre>"
      ],
      "text/plain": [
       "| 1         | 2        | 0.000002  | 1.263215     | 6962915.603493     | 426631.749026                   |"
      ]
     },
     "metadata": {},
     "output_type": "display_data"
    },
    {
     "data": {
      "text/html": [
       "<pre>| 2         | 3        | 0.000002  | 1.293296     | 6843144.200219     | 392488.929838                   |</pre>"
      ],
      "text/plain": [
       "| 2         | 3        | 0.000002  | 1.293296     | 6843144.200219     | 392488.929838                   |"
      ]
     },
     "metadata": {},
     "output_type": "display_data"
    },
    {
     "data": {
      "text/html": [
       "<pre>| 3         | 4        | 0.000002  | 1.316971     | 6831900.032123     | 385340.166783                   |</pre>"
      ],
      "text/plain": [
       "| 3         | 4        | 0.000002  | 1.316971     | 6831900.032123     | 385340.166783                   |"
      ]
     },
     "metadata": {},
     "output_type": "display_data"
    },
    {
     "data": {
      "text/html": [
       "<pre>| 4         | 5        | 0.000002  | 1.339481     | 6847166.848958     | 384842.383767                   |</pre>"
      ],
      "text/plain": [
       "| 4         | 5        | 0.000002  | 1.339481     | 6847166.848958     | 384842.383767                   |"
      ]
     },
     "metadata": {},
     "output_type": "display_data"
    },
    {
     "data": {
      "text/html": [
       "<pre>| 5         | 6        | 0.000002  | 1.362642     | 6869667.895833     | 385998.458623                   |</pre>"
      ],
      "text/plain": [
       "| 5         | 6        | 0.000002  | 1.362642     | 6869667.895833     | 385998.458623                   |"
      ]
     },
     "metadata": {},
     "output_type": "display_data"
    },
    {
     "data": {
      "text/html": [
       "<pre>| 10        | 11       | 0.000002  | 1.474475     | 6842123.232651     | 364204.576180                   |</pre>"
      ],
      "text/plain": [
       "| 10        | 11       | 0.000002  | 1.474475     | 6842123.232651     | 364204.576180                   |"
      ]
     },
     "metadata": {},
     "output_type": "display_data"
    },
    {
     "data": {
      "text/html": [
       "<pre>+-----------+----------+-----------+--------------+--------------------+---------------------------------+</pre>"
      ],
      "text/plain": [
       "+-----------+----------+-----------+--------------+--------------------+---------------------------------+"
      ]
     },
     "metadata": {},
     "output_type": "display_data"
    },
    {
     "data": {
      "text/html": [
       "<pre>Completed (Iteration limit reached).</pre>"
      ],
      "text/plain": [
       "Completed (Iteration limit reached)."
      ]
     },
     "metadata": {},
     "output_type": "display_data"
    },
    {
     "data": {
      "text/html": [
       "<pre>This model may not be optimal. To improve it, consider increasing `max_iterations`.</pre>"
      ],
      "text/plain": [
       "This model may not be optimal. To improve it, consider increasing `max_iterations`."
      ]
     },
     "metadata": {},
     "output_type": "display_data"
    }
   ],
   "source": [
    "model_all = turicreate.linear_regression.create(sales, target='price', features=all_features,\n",
    "                                                validation_set=None, \n",
    "                                                l2_penalty=0., l1_penalty=1e10)"
   ]
  },
  {
   "cell_type": "markdown",
   "metadata": {},
   "source": [
    "Find what features had non-zero weight."
   ]
  },
  {
   "cell_type": "code",
   "execution_count": 22,
   "metadata": {},
   "outputs": [
    {
     "name": "stdout",
     "output_type": "stream",
     "text": [
      "+------------------+-------+--------------------+--------+\n",
      "|       name       | index |       value        | stderr |\n",
      "+------------------+-------+--------------------+--------+\n",
      "|   (intercept)    |  None | 274873.05595049576 |  None  |\n",
      "|     bedrooms     |  None |        0.0         |  None  |\n",
      "| bedrooms_square  |  None |        0.0         |  None  |\n",
      "|    bathrooms     |  None | 8468.531086910105  |  None  |\n",
      "|   sqft_living    |  None | 24.42072098244546  |  None  |\n",
      "| sqft_living_sqrt |  None | 350.06055338605546 |  None  |\n",
      "|     sqft_lot     |  None |        0.0         |  None  |\n",
      "|  sqft_lot_sqrt   |  None |        0.0         |  None  |\n",
      "|      floors      |  None |        0.0         |  None  |\n",
      "|  floors_square   |  None |        0.0         |  None  |\n",
      "|    waterfront    |  None |        0.0         |  None  |\n",
      "|       view       |  None |        0.0         |  None  |\n",
      "|    condition     |  None |        0.0         |  None  |\n",
      "|      grade       |  None | 842.0680348976231  |  None  |\n",
      "|    sqft_above    |  None | 20.024722417091112 |  None  |\n",
      "|  sqft_basement   |  None |        0.0         |  None  |\n",
      "|     yr_built     |  None |        0.0         |  None  |\n",
      "|   yr_renovated   |  None |        0.0         |  None  |\n",
      "+------------------+-------+--------------------+--------+\n",
      "[18 rows x 4 columns]\n",
      "\n"
     ]
    }
   ],
   "source": [
    "model_all.coefficients.print_rows(num_rows=100)"
   ]
  },
  {
   "cell_type": "markdown",
   "metadata": {},
   "source": [
    "Note that a majority of the weights have been set to zero. So by setting an L1 penalty that's large enough, we are performing a subset selection. \n",
    "\n",
    "***QUIZ QUESTION***:\n",
    "According to this list of weights, which of the features have been chosen? "
   ]
  },
  {
   "cell_type": "markdown",
   "metadata": {},
   "source": [
    "# Selecting an L1 penalty"
   ]
  },
  {
   "cell_type": "markdown",
   "metadata": {},
   "source": [
    "To find a good L1 penalty, we will explore multiple values using a validation set. Let us do three way split into train, validation, and test sets:\n",
    "* Split our sales data into 2 sets: training and test\n",
    "* Further split our training data into two sets: train, validation\n",
    "\n",
    "Be *very* careful that you use seed = 1 to ensure you get the same answer!"
   ]
  },
  {
   "cell_type": "code",
   "execution_count": 10,
   "metadata": {},
   "outputs": [],
   "source": [
    "(training_and_validation, testing) = sales.random_split(.9,seed=1) # initial train/test split\n",
    "(training, validation) = training_and_validation.random_split(0.5, seed=1) # split training into train and validate\n",
    "import numpy as np"
   ]
  },
  {
   "cell_type": "markdown",
   "metadata": {},
   "source": [
    "Next, we write a loop that does the following:\n",
    "* For `l1_penalty` in [10^1, 10^1.5, 10^2, 10^2.5, ..., 10^7] (to get this in Python, type `np.logspace(1, 7, num=13)`.)\n",
    "    * Fit a regression model with a given `l1_penalty` on TRAIN data. Specify `l1_penalty=l1_penalty` and `l2_penalty=0.` in the parameter list.\n",
    "    * Compute the RSS on VALIDATION data (here you will want to use `.predict()`) for that `l1_penalty`\n",
    "* Report which `l1_penalty` produced the lowest RSS on validation data.\n",
    "\n",
    "When you call `linear_regression.create()` make sure you set `validation_set = None`.\n",
    "\n",
    "Note: you can turn off the print out of `linear_regression.create()` with `verbose = False`"
   ]
  },
  {
   "cell_type": "code",
   "execution_count": 40,
   "metadata": {},
   "outputs": [
    {
     "name": "stdout",
     "output_type": "stream",
     "text": [
      "lowest RSS was for L1 of : 10.0\n",
      "lowest RSS was: 625766285142460.6\n"
     ]
    }
   ],
   "source": [
    "lowest_rss = np.inf\n",
    "lowest_l1 = None\n",
    "for l1 in np.logspace(1, 7, num=13):\n",
    "    model = turicreate.linear_regression.create(training, target='price', features=all_features,\n",
    "                                                    validation_set=None, l2_penalty=0., l1_penalty=l1, verbose=False)\n",
    "    errors = model.predict(validation) - validation['price']\n",
    "    RSS = np.dot(errors, errors)\n",
    "    if RSS < lowest_rss:\n",
    "        lowest_rss = RSS\n",
    "        lowest_l1 = l1\n",
    "\n",
    "print('lowest RSS was for L1 of : {}'.format(lowest_l1))\n",
    "print('lowest RSS was: {}'.format(lowest_rss))"
   ]
  },
  {
   "cell_type": "code",
   "execution_count": null,
   "metadata": {},
   "outputs": [],
   "source": []
  },
  {
   "cell_type": "markdown",
   "metadata": {},
   "source": [
    "*** QUIZ QUESTION. *** What was the best value for the `l1_penalty`?"
   ]
  },
  {
   "cell_type": "code",
   "execution_count": null,
   "metadata": {},
   "outputs": [],
   "source": []
  },
  {
   "cell_type": "markdown",
   "metadata": {},
   "source": [
    "***QUIZ QUESTION***\n",
    "Also, using this value of L1 penalty, how many nonzero weights do you have?"
   ]
  },
  {
   "cell_type": "code",
   "execution_count": 33,
   "metadata": {},
   "outputs": [
    {
     "name": "stdout",
     "output_type": "stream",
     "text": [
      "+------------------+-------+----------------------+--------+\n",
      "|       name       | index |        value         | stderr |\n",
      "+------------------+-------+----------------------+--------+\n",
      "|   (intercept)    |  None |   18993.4272127706   |  None  |\n",
      "|     bedrooms     |  None |  7936.9676790313015  |  None  |\n",
      "| bedrooms_square  |  None |  936.9933681932994   |  None  |\n",
      "|    bathrooms     |  None |  25409.588934120668  |  None  |\n",
      "|   sqft_living    |  None |  39.11513637970764   |  None  |\n",
      "| sqft_living_sqrt |  None |  1124.650212807717   |  None  |\n",
      "|     sqft_lot     |  None | 0.003483618222989654 |  None  |\n",
      "|  sqft_lot_sqrt   |  None |  148.25839101140826  |  None  |\n",
      "|      floors      |  None |  21204.335466950117  |  None  |\n",
      "|  floors_square   |  None |  12915.524336072433  |  None  |\n",
      "|    waterfront    |  None |   601905.594545272   |  None  |\n",
      "|       view       |  None |  93312.85731187189   |  None  |\n",
      "|    condition     |  None |  6609.035712447216   |  None  |\n",
      "|      grade       |  None |  6206.939991880552   |  None  |\n",
      "|    sqft_above    |  None |  43.287053419335614  |  None  |\n",
      "|  sqft_basement   |  None |  122.3678275341193   |  None  |\n",
      "|     yr_built     |  None |  9.433635393724911   |  None  |\n",
      "|   yr_renovated   |  None |  56.072003448822365  |  None  |\n",
      "+------------------+-------+----------------------+--------+\n",
      "[18 rows x 4 columns]\n",
      "\n",
      "None\n"
     ]
    }
   ],
   "source": [
    "l1 = 10\n",
    "model = turicreate.linear_regression.create(training, target='price', features=all_features,\n",
    "                                                    validation_set=None, l2_penalty=0., l1_penalty=l1, verbose=False)\n",
    "print(model.coefficients.print_rows(num_rows=100))"
   ]
  },
  {
   "cell_type": "markdown",
   "metadata": {},
   "source": [
    "# Limit the number of nonzero weights\n",
    "\n",
    "What if we absolutely wanted to limit ourselves to, say, 7 features? This may be important if we want to derive \"a rule of thumb\" --- an interpretable model that has only a few features in them."
   ]
  },
  {
   "cell_type": "markdown",
   "metadata": {},
   "source": [
    "In this section, you are going to implement a simple, two phase procedure to achive this goal:\n",
    "1. Explore a large range of `l1_penalty` values to find a narrow region of `l1_penalty` values where models are likely to have the desired number of non-zero weights.\n",
    "2. Further explore the narrow region you found to find a good value for `l1_penalty` that achieves the desired sparsity.  Here, we will again use a validation set to choose the best value for `l1_penalty`."
   ]
  },
  {
   "cell_type": "code",
   "execution_count": 41,
   "metadata": {},
   "outputs": [],
   "source": [
    "max_nonzeros = 7"
   ]
  },
  {
   "cell_type": "markdown",
   "metadata": {},
   "source": [
    "## Exploring the larger range of values to find a narrow range with the desired sparsity\n",
    "\n",
    "Let's define a wide range of possible `l1_penalty_values`:"
   ]
  },
  {
   "cell_type": "code",
   "execution_count": 42,
   "metadata": {},
   "outputs": [],
   "source": [
    "l1_penalty_values = np.logspace(8, 10, num=20)"
   ]
  },
  {
   "cell_type": "markdown",
   "metadata": {},
   "source": [
    "Now, implement a loop that search through this space of possible `l1_penalty` values:\n",
    "\n",
    "* For `l1_penalty` in `np.logspace(8, 10, num=20)`:\n",
    "    * Fit a regression model with a given `l1_penalty` on TRAIN data. Specify `l1_penalty=l1_penalty` and `l2_penalty=0.` in the parameter list. When you call `linear_regression.create()` make sure you set `validation_set = None`\n",
    "    * Extract the weights of the model and count the number of nonzeros. Save the number of nonzeros to a list.\n",
    "        * *Hint: `model.coefficients['value']` gives you an SArray with the parameters you learned.  If you call the method `.nnz()` on it, you will find the number of non-zero parameters!* "
   ]
  },
  {
   "cell_type": "code",
   "execution_count": 45,
   "metadata": {},
   "outputs": [
    {
     "name": "stdout",
     "output_type": "stream",
     "text": [
      "lowest RSS was for L1 of : 100000000.0\n",
      "lowest RSS was: 627492659875075.4\n"
     ]
    },
    {
     "data": {
      "text/plain": [
       "[{'name': 7847599703.514623, 'non_zeros': 1},\n",
       " {'name': 10000000000.0, 'non_zeros': 1},\n",
       " {'name': 6158482110.6602545, 'non_zeros': 3},\n",
       " {'name': 4832930238.571753, 'non_zeros': 5},\n",
       " {'name': 3792690190.7322536, 'non_zeros': 6},\n",
       " {'name': 2976351441.6313133, 'non_zeros': 10},\n",
       " {'name': 2335721469.0901213, 'non_zeros': 12},\n",
       " {'name': 1832980710.8324375, 'non_zeros': 13},\n",
       " {'name': 1128837891.6846883, 'non_zeros': 15},\n",
       " {'name': 1438449888.2876658, 'non_zeros': 15},\n",
       " {'name': 885866790.4100832, 'non_zeros': 16},\n",
       " {'name': 263665089.87303555, 'non_zeros': 17},\n",
       " {'name': 335981828.6283788, 'non_zeros': 17},\n",
       " {'name': 428133239.8719396, 'non_zeros': 17},\n",
       " {'name': 545559478.1168514, 'non_zeros': 17},\n",
       " {'name': 695192796.1775591, 'non_zeros': 17},\n",
       " {'name': 100000000.0, 'non_zeros': 18},\n",
       " {'name': 127427498.57031322, 'non_zeros': 18},\n",
       " {'name': 162377673.91887242, 'non_zeros': 18},\n",
       " {'name': 206913808.111479, 'non_zeros': 18}]"
      ]
     },
     "execution_count": 45,
     "metadata": {},
     "output_type": "execute_result"
    }
   ],
   "source": [
    "lowest_rss = np.inf\n",
    "lowest_l1 = None\n",
    "models = []\n",
    "for l1 in np.logspace(8, 10, num=20):\n",
    "    model = turicreate.linear_regression.create(training, target='price', features=all_features,\n",
    "                                                    validation_set=None, l2_penalty=0., l1_penalty=l1, verbose=False)\n",
    "    errors = model.predict(validation) - validation['price']\n",
    "    RSS = np.dot(errors, errors)\n",
    "    non_zeros = model.coefficients['value'].nnz()\n",
    "    \n",
    "    m = {\n",
    "        'name': l1,\n",
    "        'non_zeros': non_zeros\n",
    "    }\n",
    "    models.append(m)\n",
    "    if RSS < lowest_rss:\n",
    "        lowest_rss = RSS\n",
    "        lowest_l1 = l1\n",
    "\n",
    "print('lowest RSS was for L1 of : {}'.format(lowest_l1))\n",
    "print('lowest RSS was: {}'.format(lowest_rss))\n",
    "models = sorted(models, key=lambda x: x['non_zeros'])\n",
    "models"
   ]
  },
  {
   "cell_type": "markdown",
   "metadata": {},
   "source": [
    "Out of this large range, we want to find the two ends of our desired narrow range of `l1_penalty`.  At one end, we will have `l1_penalty` values that have too few non-zeros, and at the other end, we will have an `l1_penalty` that has too many non-zeros.  \n",
    "\n",
    "More formally, find:\n",
    "* The largest `l1_penalty` that has more non-zeros than `max_nonzeros` (if we pick a penalty smaller than this value, we will definitely have too many non-zero weights)\n",
    "    * Store this value in the variable `l1_penalty_min` (we will use it later)\n",
    "* The smallest `l1_penalty` that has fewer non-zeros than `max_nonzeros` (if we pick a penalty larger than this value, we will definitely have too few non-zero weights)\n",
    "    * Store this value in the variable `l1_penalty_max` (we will use it later)\n",
    "\n",
    "\n",
    "*Hint: there are many ways to do this, e.g.:*\n",
    "* Programmatically within the loop above\n",
    "* Creating a list with the number of non-zeros for each value of `l1_penalty` and inspecting it to find the appropriate boundaries."
   ]
  },
  {
   "cell_type": "code",
   "execution_count": 46,
   "metadata": {},
   "outputs": [],
   "source": [
    "l1_penalty_min = 2976351441.6313133\n",
    "l1_penalty_max = 3792690190.7322536"
   ]
  },
  {
   "cell_type": "markdown",
   "metadata": {},
   "source": [
    "***QUIZ QUESTION.*** What values did you find for `l1_penalty_min` and `l1_penalty_max`, respectively? "
   ]
  },
  {
   "cell_type": "markdown",
   "metadata": {},
   "source": [
    "## Exploring the narrow range of values to find the solution with the right number of non-zeros that has lowest RSS on the validation set \n",
    "\n",
    "We will now explore the narrow region of `l1_penalty` values we found:"
   ]
  },
  {
   "cell_type": "code",
   "execution_count": null,
   "metadata": {},
   "outputs": [],
   "source": [
    "l1_penalty_values = np.linspace(l1_penalty_min,l1_penalty_max,20)"
   ]
  },
  {
   "cell_type": "markdown",
   "metadata": {},
   "source": [
    "* For `l1_penalty` in `np.linspace(l1_penalty_min,l1_penalty_max,20)`:\n",
    "    * Fit a regression model with a given `l1_penalty` on TRAIN data. Specify `l1_penalty=l1_penalty` and `l2_penalty=0.` in the parameter list. When you call `linear_regression.create()` make sure you set `validation_set = None`\n",
    "    * Measure the RSS of the learned model on the VALIDATION set\n",
    "\n",
    "Find the model that the lowest RSS on the VALIDATION set and has sparsity *equal* to `max_nonzeros`."
   ]
  },
  {
   "cell_type": "code",
   "execution_count": 50,
   "metadata": {},
   "outputs": [
    {
     "name": "stdout",
     "output_type": "stream",
     "text": [
      "lowest RSS was for L1 of : 2976351441.6313133\n",
      "lowest RSS was: 966925692362085.1\n"
     ]
    },
    {
     "data": {
      "text/plain": [
       "[{'name': 2976351441.6313133,\n",
       "  'non_zeros': 10,\n",
       "  'RSS': 966925692362085.1,\n",
       "  'model': Class                          : LinearRegression\n",
       "  \n",
       "  Schema\n",
       "  ------\n",
       "  Number of coefficients         : 18\n",
       "  Number of examples             : 9761\n",
       "  Number of feature columns      : 17\n",
       "  Number of unpacked features    : 17\n",
       "  \n",
       "  Hyperparameters\n",
       "  ---------------\n",
       "  L1 penalty                     : 2976351441.6313\n",
       "  L2 penalty                     : 0.0\n",
       "  \n",
       "  Training Summary\n",
       "  ----------------\n",
       "  Solver                         : fista\n",
       "  Solver iterations              : 10\n",
       "  Solver status                  : Completed (Iteration limit reached).\n",
       "  Training time (sec)            : 0.5031\n",
       "  \n",
       "  Settings\n",
       "  --------\n",
       "  Residual sum of squares        : 1096129858584939.0\n",
       "  Training RMSE                  : 338444.2136\n",
       "  \n",
       "  Highest Positive Coefficients\n",
       "  -----------------------------\n",
       "  (intercept)                    : 196100.9378\n",
       "  bathrooms                      : 17962.6967\n",
       "  view                           : 11333.841\n",
       "  floors                         : 3665.9308\n",
       "  grade                          : 3578.9004\n",
       "  \n",
       "  Lowest Negative Coefficients\n",
       "  ----------------------------\n",
       "  No Negative Coefficients       : },\n",
       " {'name': 3019316638.9524155,\n",
       "  'non_zeros': 10,\n",
       "  'RSS': 974019450084554.8,\n",
       "  'model': Class                          : LinearRegression\n",
       "  \n",
       "  Schema\n",
       "  ------\n",
       "  Number of coefficients         : 18\n",
       "  Number of examples             : 9761\n",
       "  Number of feature columns      : 17\n",
       "  Number of unpacked features    : 17\n",
       "  \n",
       "  Hyperparameters\n",
       "  ---------------\n",
       "  L1 penalty                     : 3019316638.9524\n",
       "  L2 penalty                     : 0.0\n",
       "  \n",
       "  Training Summary\n",
       "  ----------------\n",
       "  Solver                         : fista\n",
       "  Solver iterations              : 10\n",
       "  Solver status                  : Completed (Iteration limit reached).\n",
       "  Training time (sec)            : 0.5062\n",
       "  \n",
       "  Settings\n",
       "  --------\n",
       "  Residual sum of squares        : 1103172714130822.5\n",
       "  Training RMSE                  : 339634.1884\n",
       "  \n",
       "  Highest Positive Coefficients\n",
       "  -----------------------------\n",
       "  (intercept)                    : 198563.2462\n",
       "  bathrooms                      : 17810.3876\n",
       "  view                           : 9876.7376\n",
       "  grade                          : 3528.255\n",
       "  floors                         : 3358.2033\n",
       "  \n",
       "  Lowest Negative Coefficients\n",
       "  ----------------------------\n",
       "  No Negative Coefficients       : },\n",
       " {'name': 3062281836.2735176,\n",
       "  'non_zeros': 10,\n",
       "  'RSS': 981188367942453.9,\n",
       "  'model': Class                          : LinearRegression\n",
       "  \n",
       "  Schema\n",
       "  ------\n",
       "  Number of coefficients         : 18\n",
       "  Number of examples             : 9761\n",
       "  Number of feature columns      : 17\n",
       "  Number of unpacked features    : 17\n",
       "  \n",
       "  Hyperparameters\n",
       "  ---------------\n",
       "  L1 penalty                     : 3062281836.2735\n",
       "  L2 penalty                     : 0.0\n",
       "  \n",
       "  Training Summary\n",
       "  ----------------\n",
       "  Solver                         : fista\n",
       "  Solver iterations              : 10\n",
       "  Solver status                  : Completed (Iteration limit reached).\n",
       "  Training time (sec)            : 0.4993\n",
       "  \n",
       "  Settings\n",
       "  --------\n",
       "  Residual sum of squares        : 1110292583749967.8\n",
       "  Training RMSE                  : 340832.2062\n",
       "  \n",
       "  Highest Positive Coefficients\n",
       "  -----------------------------\n",
       "  (intercept)                    : 201025.5604\n",
       "  bathrooms                      : 17658.0895\n",
       "  view                           : 8418.9871\n",
       "  grade                          : 3477.6122\n",
       "  floors                         : 3050.4722\n",
       "  \n",
       "  Lowest Negative Coefficients\n",
       "  ----------------------------\n",
       "  No Negative Coefficients       : },\n",
       " {'name': 3105247033.5946198,\n",
       "  'non_zeros': 10,\n",
       "  'RSS': 989328342459473.1,\n",
       "  'model': Class                          : LinearRegression\n",
       "  \n",
       "  Schema\n",
       "  ------\n",
       "  Number of coefficients         : 18\n",
       "  Number of examples             : 9761\n",
       "  Number of feature columns      : 17\n",
       "  Number of unpacked features    : 17\n",
       "  \n",
       "  Hyperparameters\n",
       "  ---------------\n",
       "  L1 penalty                     : 3105247033.5946\n",
       "  L2 penalty                     : 0.0\n",
       "  \n",
       "  Training Summary\n",
       "  ----------------\n",
       "  Solver                         : fista\n",
       "  Solver iterations              : 10\n",
       "  Solver status                  : Completed (Iteration limit reached).\n",
       "  Training time (sec)            : 0.5118\n",
       "  \n",
       "  Settings\n",
       "  --------\n",
       "  Residual sum of squares        : 1119541118273441.1\n",
       "  Training RMSE                  : 342182.6696\n",
       "  \n",
       "  Highest Positive Coefficients\n",
       "  -----------------------------\n",
       "  (intercept)                    : 203443.601\n",
       "  bathrooms                      : 17487.4924\n",
       "  view                           : 6944.3662\n",
       "  grade                          : 3421.3504\n",
       "  floors                         : 2716.8076\n",
       "  \n",
       "  Lowest Negative Coefficients\n",
       "  ----------------------------\n",
       "  No Negative Coefficients       : },\n",
       " {'name': 3148212230.915722,\n",
       "  'non_zeros': 10,\n",
       "  'RSS': 998783211265889.8,\n",
       "  'model': Class                          : LinearRegression\n",
       "  \n",
       "  Schema\n",
       "  ------\n",
       "  Number of coefficients         : 18\n",
       "  Number of examples             : 9761\n",
       "  Number of feature columns      : 17\n",
       "  Number of unpacked features    : 17\n",
       "  \n",
       "  Hyperparameters\n",
       "  ---------------\n",
       "  L1 penalty                     : 3148212230.9157\n",
       "  L2 penalty                     : 0.0\n",
       "  \n",
       "  Training Summary\n",
       "  ----------------\n",
       "  Solver                         : fista\n",
       "  Solver iterations              : 10\n",
       "  Solver status                  : Completed (Iteration limit reached).\n",
       "  Training time (sec)            : 0.5087\n",
       "  \n",
       "  Settings\n",
       "  --------\n",
       "  Residual sum of squares        : 1131915923101998.2\n",
       "  Training RMSE                  : 343739.011\n",
       "  \n",
       "  Highest Positive Coefficients\n",
       "  -----------------------------\n",
       "  (intercept)                    : 205805.8995\n",
       "  bathrooms                      : 17291.036\n",
       "  view                           : 5448.0235\n",
       "  grade                          : 3357.6714\n",
       "  floors                         : 2342.2083\n",
       "  \n",
       "  Lowest Negative Coefficients\n",
       "  ----------------------------\n",
       "  No Negative Coefficients       : },\n",
       " {'name': 3191177428.236824,\n",
       "  'non_zeros': 10,\n",
       "  'RSS': 1008477167020093.5,\n",
       "  'model': Class                          : LinearRegression\n",
       "  \n",
       "  Schema\n",
       "  ------\n",
       "  Number of coefficients         : 18\n",
       "  Number of examples             : 9761\n",
       "  Number of feature columns      : 17\n",
       "  Number of unpacked features    : 17\n",
       "  \n",
       "  Hyperparameters\n",
       "  ---------------\n",
       "  L1 penalty                     : 3191177428.2368\n",
       "  L2 penalty                     : 0.0\n",
       "  \n",
       "  Training Summary\n",
       "  ----------------\n",
       "  Solver                         : fista\n",
       "  Solver iterations              : 10\n",
       "  Solver status                  : Completed (Iteration limit reached).\n",
       "  Training time (sec)            : 0.5048\n",
       "  \n",
       "  Settings\n",
       "  --------\n",
       "  Residual sum of squares        : 1144790521924204.2\n",
       "  Training RMSE                  : 345326.3529\n",
       "  \n",
       "  Highest Positive Coefficients\n",
       "  -----------------------------\n",
       "  (intercept)                    : 208163.0755\n",
       "  bathrooms                      : 17092.182\n",
       "  view                           : 3949.6853\n",
       "  grade                          : 3293.3081\n",
       "  floors                         : 1963.785\n",
       "  \n",
       "  Lowest Negative Coefficients\n",
       "  ----------------------------\n",
       "  No Negative Coefficients       : },\n",
       " {'name': 3234142625.557926,\n",
       "  'non_zeros': 10,\n",
       "  'RSS': 1018298780553819.4,\n",
       "  'model': Class                          : LinearRegression\n",
       "  \n",
       "  Schema\n",
       "  ------\n",
       "  Number of coefficients         : 18\n",
       "  Number of examples             : 9761\n",
       "  Number of feature columns      : 17\n",
       "  Number of unpacked features    : 17\n",
       "  \n",
       "  Hyperparameters\n",
       "  ---------------\n",
       "  L1 penalty                     : 3234142625.5579\n",
       "  L2 penalty                     : 0.0\n",
       "  \n",
       "  Training Summary\n",
       "  ----------------\n",
       "  Solver                         : fista\n",
       "  Solver iterations              : 10\n",
       "  Solver status                  : Completed (Iteration limit reached).\n",
       "  Training time (sec)            : 0.5068\n",
       "  \n",
       "  Settings\n",
       "  --------\n",
       "  Residual sum of squares        : 1157889928684651.2\n",
       "  Training RMSE                  : 346926.5309\n",
       "  \n",
       "  Highest Positive Coefficients\n",
       "  -----------------------------\n",
       "  (intercept)                    : 210520.2514\n",
       "  bathrooms                      : 16893.3279\n",
       "  grade                          : 3228.9448\n",
       "  view                           : 2451.3472\n",
       "  floors                         : 1585.3617\n",
       "  \n",
       "  Lowest Negative Coefficients\n",
       "  ----------------------------\n",
       "  No Negative Coefficients       : },\n",
       " {'name': 3277107822.8790283,\n",
       "  'non_zeros': 10,\n",
       "  'RSS': 1028247992205977.0,\n",
       "  'model': Class                          : LinearRegression\n",
       "  \n",
       "  Schema\n",
       "  ------\n",
       "  Number of coefficients         : 18\n",
       "  Number of examples             : 9761\n",
       "  Number of feature columns      : 17\n",
       "  Number of unpacked features    : 17\n",
       "  \n",
       "  Hyperparameters\n",
       "  ---------------\n",
       "  L1 penalty                     : 3277107822.879\n",
       "  L2 penalty                     : 0.0\n",
       "  \n",
       "  Training Summary\n",
       "  ----------------\n",
       "  Solver                         : fista\n",
       "  Solver iterations              : 10\n",
       "  Solver status                  : Completed (Iteration limit reached).\n",
       "  Training time (sec)            : 0.502\n",
       "  \n",
       "  Settings\n",
       "  --------\n",
       "  Residual sum of squares        : 1171214063323886.5\n",
       "  Training RMSE                  : 348539.3586\n",
       "  \n",
       "  Highest Positive Coefficients\n",
       "  -----------------------------\n",
       "  (intercept)                    : 212877.4133\n",
       "  bathrooms                      : 16694.475\n",
       "  grade                          : 3164.5819\n",
       "  bedrooms                       : 1251.8681\n",
       "  floors                         : 1206.9406\n",
       "  \n",
       "  Lowest Negative Coefficients\n",
       "  ----------------------------\n",
       "  No Negative Coefficients       : },\n",
       " {'name': 3320073020.2001305,\n",
       "  'non_zeros': 8,\n",
       "  'RSS': 1034616909232827.1,\n",
       "  'model': Class                          : LinearRegression\n",
       "  \n",
       "  Schema\n",
       "  ------\n",
       "  Number of coefficients         : 18\n",
       "  Number of examples             : 9761\n",
       "  Number of feature columns      : 17\n",
       "  Number of unpacked features    : 17\n",
       "  \n",
       "  Hyperparameters\n",
       "  ---------------\n",
       "  L1 penalty                     : 3320073020.2001\n",
       "  L2 penalty                     : 0.0\n",
       "  \n",
       "  Training Summary\n",
       "  ----------------\n",
       "  Solver                         : fista\n",
       "  Solver iterations              : 10\n",
       "  Solver status                  : Completed (Iteration limit reached).\n",
       "  Training time (sec)            : 0.5523\n",
       "  \n",
       "  Settings\n",
       "  --------\n",
       "  Residual sum of squares        : 1177857008435955.5\n",
       "  Training RMSE                  : 349580.6021\n",
       "  \n",
       "  Highest Positive Coefficients\n",
       "  -----------------------------\n",
       "  (intercept)                    : 215235.6036\n",
       "  bathrooms                      : 16496.2361\n",
       "  grade                          : 3100.3599\n",
       "  bedrooms                       : 1108.3696\n",
       "  floors                         : 829.5601\n",
       "  \n",
       "  Lowest Negative Coefficients\n",
       "  ----------------------------\n",
       "  No Negative Coefficients       : },\n",
       " {'name': 3363038217.5212326,\n",
       "  'non_zeros': 8,\n",
       "  'RSS': 1038554735941040.6,\n",
       "  'model': Class                          : LinearRegression\n",
       "  \n",
       "  Schema\n",
       "  ------\n",
       "  Number of coefficients         : 18\n",
       "  Number of examples             : 9761\n",
       "  Number of feature columns      : 17\n",
       "  Number of unpacked features    : 17\n",
       "  \n",
       "  Hyperparameters\n",
       "  ---------------\n",
       "  L1 penalty                     : 3363038217.5212\n",
       "  L2 penalty                     : 0.0\n",
       "  \n",
       "  Training Summary\n",
       "  ----------------\n",
       "  Solver                         : fista\n",
       "  Solver iterations              : 10\n",
       "  Solver status                  : Completed (Iteration limit reached).\n",
       "  Training time (sec)            : 0.5549\n",
       "  \n",
       "  Settings\n",
       "  --------\n",
       "  Residual sum of squares        : 1179686017889577.2\n",
       "  Training RMSE                  : 350216.9824\n",
       "  \n",
       "  Highest Positive Coefficients\n",
       "  -----------------------------\n",
       "  (intercept)                    : 217598.3038\n",
       "  bathrooms                      : 16300.7319\n",
       "  grade                          : 3036.7665\n",
       "  bedrooms                       : 966.3985\n",
       "  sqft_living_sqrt               : 710.5492\n",
       "  \n",
       "  Lowest Negative Coefficients\n",
       "  ----------------------------\n",
       "  No Negative Coefficients       : },\n",
       " {'name': 3406003414.8423347,\n",
       "  'non_zeros': 8,\n",
       "  'RSS': 1043237237871701.5,\n",
       "  'model': Class                          : LinearRegression\n",
       "  \n",
       "  Schema\n",
       "  ------\n",
       "  Number of coefficients         : 18\n",
       "  Number of examples             : 9761\n",
       "  Number of feature columns      : 17\n",
       "  Number of unpacked features    : 17\n",
       "  \n",
       "  Hyperparameters\n",
       "  ---------------\n",
       "  L1 penalty                     : 3406003414.8423\n",
       "  L2 penalty                     : 0.0\n",
       "  \n",
       "  Training Summary\n",
       "  ----------------\n",
       "  Solver                         : fista\n",
       "  Solver iterations              : 10\n",
       "  Solver status                  : Completed (Iteration limit reached).\n",
       "  Training time (sec)            : 0.5168\n",
       "  \n",
       "  Settings\n",
       "  --------\n",
       "  Residual sum of squares        : 1184897862629551.5\n",
       "  Training RMSE                  : 350968.9142\n",
       "  \n",
       "  Highest Positive Coefficients\n",
       "  -----------------------------\n",
       "  (intercept)                    : 219929.857\n",
       "  bathrooms                      : 16089.4932\n",
       "  grade                          : 2968.6998\n",
       "  bedrooms                       : 815.2762\n",
       "  sqft_living_sqrt               : 700.4399\n",
       "  \n",
       "  Lowest Negative Coefficients\n",
       "  ----------------------------\n",
       "  No Negative Coefficients       : },\n",
       " {'name': 3448968612.163437,\n",
       "  'non_zeros': 7,\n",
       "  'RSS': 1046937488751710.9,\n",
       "  'model': Class                          : LinearRegression\n",
       "  \n",
       "  Schema\n",
       "  ------\n",
       "  Number of coefficients         : 18\n",
       "  Number of examples             : 9761\n",
       "  Number of feature columns      : 17\n",
       "  Number of unpacked features    : 17\n",
       "  \n",
       "  Hyperparameters\n",
       "  ---------------\n",
       "  L1 penalty                     : 3448968612.1634\n",
       "  L2 penalty                     : 0.0\n",
       "  \n",
       "  Training Summary\n",
       "  ----------------\n",
       "  Solver                         : fista\n",
       "  Solver iterations              : 10\n",
       "  Solver status                  : Completed (Iteration limit reached).\n",
       "  Training time (sec)            : 0.533\n",
       "  \n",
       "  Settings\n",
       "  --------\n",
       "  Residual sum of squares        : 1188861688710810.2\n",
       "  Training RMSE                  : 351567.8079\n",
       "  \n",
       "  Highest Positive Coefficients\n",
       "  -----------------------------\n",
       "  (intercept)                    : 222253.1925\n",
       "  bathrooms                      : 15873.9573\n",
       "  grade                          : 2899.4203\n",
       "  sqft_living_sqrt               : 690.1148\n",
       "  bedrooms                       : 661.7227\n",
       "  \n",
       "  Lowest Negative Coefficients\n",
       "  ----------------------------\n",
       "  No Negative Coefficients       : },\n",
       " {'name': 3491933809.484539,\n",
       "  'non_zeros': 7,\n",
       "  'RSS': 1051147625612862.0,\n",
       "  'model': Class                          : LinearRegression\n",
       "  \n",
       "  Schema\n",
       "  ------\n",
       "  Number of coefficients         : 18\n",
       "  Number of examples             : 9761\n",
       "  Number of feature columns      : 17\n",
       "  Number of unpacked features    : 17\n",
       "  \n",
       "  Hyperparameters\n",
       "  ---------------\n",
       "  L1 penalty                     : 3491933809.4845\n",
       "  L2 penalty                     : 0.0\n",
       "  \n",
       "  Training Summary\n",
       "  ----------------\n",
       "  Solver                         : fista\n",
       "  Solver iterations              : 10\n",
       "  Solver status                  : Completed (Iteration limit reached).\n",
       "  Training time (sec)            : 0.5089\n",
       "  \n",
       "  Settings\n",
       "  --------\n",
       "  Residual sum of squares        : 1193921786991187.5\n",
       "  Training RMSE                  : 352245.9489\n",
       "  \n",
       "  Highest Positive Coefficients\n",
       "  -----------------------------\n",
       "  (intercept)                    : 224545.1365\n",
       "  bathrooms                      : 15640.8229\n",
       "  grade                          : 2825.4694\n",
       "  sqft_living_sqrt               : 678.9044\n",
       "  bedrooms                       : 496.9834\n",
       "  \n",
       "  Lowest Negative Coefficients\n",
       "  ----------------------------\n",
       "  No Negative Coefficients       : },\n",
       " {'name': 3534899006.805641,\n",
       "  'non_zeros': 7,\n",
       "  'RSS': 1055992735342999.4,\n",
       "  'model': Class                          : LinearRegression\n",
       "  \n",
       "  Schema\n",
       "  ------\n",
       "  Number of coefficients         : 18\n",
       "  Number of examples             : 9761\n",
       "  Number of feature columns      : 17\n",
       "  Number of unpacked features    : 17\n",
       "  \n",
       "  Hyperparameters\n",
       "  ---------------\n",
       "  L1 penalty                     : 3534899006.8056\n",
       "  L2 penalty                     : 0.0\n",
       "  \n",
       "  Training Summary\n",
       "  ----------------\n",
       "  Solver                         : fista\n",
       "  Solver iterations              : 10\n",
       "  Solver status                  : Completed (Iteration limit reached).\n",
       "  Training time (sec)            : 0.5137\n",
       "  \n",
       "  Settings\n",
       "  --------\n",
       "  Residual sum of squares        : 1201136179570510.5\n",
       "  Training RMSE                  : 353021.7039\n",
       "  \n",
       "  Highest Positive Coefficients\n",
       "  -----------------------------\n",
       "  (intercept)                    : 226807.0472\n",
       "  bathrooms                      : 15392.9565\n",
       "  grade                          : 2747.5279\n",
       "  sqft_living_sqrt               : 666.9499\n",
       "  bedrooms                       : 322.0989\n",
       "  \n",
       "  Lowest Negative Coefficients\n",
       "  ----------------------------\n",
       "  No Negative Coefficients       : },\n",
       " {'name': 3577864204.126743,\n",
       "  'non_zeros': 7,\n",
       "  'RSS': 1060799531763287.4,\n",
       "  'model': Class                          : LinearRegression\n",
       "  \n",
       "  Schema\n",
       "  ------\n",
       "  Number of coefficients         : 18\n",
       "  Number of examples             : 9761\n",
       "  Number of feature columns      : 17\n",
       "  Number of unpacked features    : 17\n",
       "  \n",
       "  Hyperparameters\n",
       "  ---------------\n",
       "  L1 penalty                     : 3577864204.1267\n",
       "  L2 penalty                     : 0.0\n",
       "  \n",
       "  Training Summary\n",
       "  ----------------\n",
       "  Solver                         : fista\n",
       "  Solver iterations              : 10\n",
       "  Solver status                  : Completed (Iteration limit reached).\n",
       "  Training time (sec)            : 0.5061\n",
       "  \n",
       "  Settings\n",
       "  --------\n",
       "  Residual sum of squares        : 1208267952736457.2\n",
       "  Training RMSE                  : 353789.7234\n",
       "  \n",
       "  Highest Positive Coefficients\n",
       "  -----------------------------\n",
       "  (intercept)                    : 229077.8754\n",
       "  bathrooms                      : 15146.7393\n",
       "  grade                          : 2670.2506\n",
       "  sqft_living_sqrt               : 655.0782\n",
       "  bedrooms                       : 149.4175\n",
       "  \n",
       "  Lowest Negative Coefficients\n",
       "  ----------------------------\n",
       "  No Negative Coefficients       : },\n",
       " {'name': 3620829401.447845,\n",
       "  'non_zeros': 6,\n",
       "  'RSS': 1065707689498229.6,\n",
       "  'model': Class                          : LinearRegression\n",
       "  \n",
       "  Schema\n",
       "  ------\n",
       "  Number of coefficients         : 18\n",
       "  Number of examples             : 9761\n",
       "  Number of feature columns      : 17\n",
       "  Number of unpacked features    : 17\n",
       "  \n",
       "  Hyperparameters\n",
       "  ---------------\n",
       "  L1 penalty                     : 3620829401.4478\n",
       "  L2 penalty                     : 0.0\n",
       "  \n",
       "  Training Summary\n",
       "  ----------------\n",
       "  Solver                         : fista\n",
       "  Solver iterations              : 10\n",
       "  Solver status                  : Completed (Iteration limit reached).\n",
       "  Training time (sec)            : 0.512\n",
       "  \n",
       "  Settings\n",
       "  --------\n",
       "  Residual sum of squares        : 1214895771354770.2\n",
       "  Training RMSE                  : 354571.9357\n",
       "  \n",
       "  Highest Positive Coefficients\n",
       "  -----------------------------\n",
       "  (intercept)                    : 231334.9092\n",
       "  bathrooms                      : 14892.9995\n",
       "  grade                          : 2590.9819\n",
       "  sqft_living_sqrt               : 642.8794\n",
       "  sqft_living                    : 31.5288\n",
       "  \n",
       "  Lowest Negative Coefficients\n",
       "  ----------------------------\n",
       "  No Negative Coefficients       : },\n",
       " {'name': 3663794598.768947,\n",
       "  'non_zeros': 6,\n",
       "  'RSS': 1069464335425584.8,\n",
       "  'model': Class                          : LinearRegression\n",
       "  \n",
       "  Schema\n",
       "  ------\n",
       "  Number of coefficients         : 18\n",
       "  Number of examples             : 9761\n",
       "  Number of feature columns      : 17\n",
       "  Number of unpacked features    : 17\n",
       "  \n",
       "  Hyperparameters\n",
       "  ---------------\n",
       "  L1 penalty                     : 3663794598.7689\n",
       "  L2 penalty                     : 0.0\n",
       "  \n",
       "  Training Summary\n",
       "  ----------------\n",
       "  Solver                         : fista\n",
       "  Solver iterations              : 10\n",
       "  Solver status                  : Completed (Iteration limit reached).\n",
       "  Training time (sec)            : 0.5028\n",
       "  \n",
       "  Settings\n",
       "  --------\n",
       "  Residual sum of squares        : 1219272696373990.2\n",
       "  Training RMSE                  : 355175.3645\n",
       "  \n",
       "  Highest Positive Coefficients\n",
       "  -----------------------------\n",
       "  (intercept)                    : 233587.8421\n",
       "  bathrooms                      : 14637.1203\n",
       "  grade                          : 2511.14\n",
       "  sqft_living_sqrt               : 630.5872\n",
       "  sqft_living                    : 31.2971\n",
       "  \n",
       "  Lowest Negative Coefficients\n",
       "  ----------------------------\n",
       "  No Negative Coefficients       : },\n",
       " {'name': 3706759796.0900493,\n",
       "  'non_zeros': 6,\n",
       "  'RSS': 1073504549585598.8,\n",
       "  'model': Class                          : LinearRegression\n",
       "  \n",
       "  Schema\n",
       "  ------\n",
       "  Number of coefficients         : 18\n",
       "  Number of examples             : 9761\n",
       "  Number of feature columns      : 17\n",
       "  Number of unpacked features    : 17\n",
       "  \n",
       "  Hyperparameters\n",
       "  ---------------\n",
       "  L1 penalty                     : 3706759796.09\n",
       "  L2 penalty                     : 0.0\n",
       "  \n",
       "  Training Summary\n",
       "  ----------------\n",
       "  Solver                         : fista\n",
       "  Solver iterations              : 10\n",
       "  Solver status                  : Completed (Iteration limit reached).\n",
       "  Training time (sec)            : 0.5149\n",
       "  \n",
       "  Settings\n",
       "  --------\n",
       "  Residual sum of squares        : 1223505646982238.2\n",
       "  Training RMSE                  : 355821.6391\n",
       "  \n",
       "  Highest Positive Coefficients\n",
       "  -----------------------------\n",
       "  (intercept)                    : 235832.5515\n",
       "  bathrooms                      : 14373.6504\n",
       "  grade                          : 2429.68\n",
       "  sqft_living_sqrt               : 617.898\n",
       "  sqft_living                    : 31.0532\n",
       "  \n",
       "  Lowest Negative Coefficients\n",
       "  ----------------------------\n",
       "  No Negative Coefficients       : },\n",
       " {'name': 3749724993.4111514,\n",
       "  'non_zeros': 6,\n",
       "  'RSS': 1077632775581415.1,\n",
       "  'model': Class                          : LinearRegression\n",
       "  \n",
       "  Schema\n",
       "  ------\n",
       "  Number of coefficients         : 18\n",
       "  Number of examples             : 9761\n",
       "  Number of feature columns      : 17\n",
       "  Number of unpacked features    : 17\n",
       "  \n",
       "  Hyperparameters\n",
       "  ---------------\n",
       "  L1 penalty                     : 3749724993.4112\n",
       "  L2 penalty                     : 0.0\n",
       "  \n",
       "  Training Summary\n",
       "  ----------------\n",
       "  Solver                         : fista\n",
       "  Solver iterations              : 10\n",
       "  Solver status                  : Completed (Iteration limit reached).\n",
       "  Training time (sec)            : 0.5074\n",
       "  \n",
       "  Settings\n",
       "  --------\n",
       "  Residual sum of squares        : 1227720795891378.2\n",
       "  Training RMSE                  : 356480.2534\n",
       "  \n",
       "  Highest Positive Coefficients\n",
       "  -----------------------------\n",
       "  (intercept)                    : 238074.1364\n",
       "  bathrooms                      : 14108.2262\n",
       "  grade                          : 2347.7608\n",
       "  sqft_living_sqrt               : 605.1071\n",
       "  sqft_living                    : 30.8068\n",
       "  \n",
       "  Lowest Negative Coefficients\n",
       "  ----------------------------\n",
       "  No Negative Coefficients       : },\n",
       " {'name': 3792690190.7322536,\n",
       "  'non_zeros': 6,\n",
       "  'RSS': 1081867592324112.5,\n",
       "  'model': Class                          : LinearRegression\n",
       "  \n",
       "  Schema\n",
       "  ------\n",
       "  Number of coefficients         : 18\n",
       "  Number of examples             : 9761\n",
       "  Number of feature columns      : 17\n",
       "  Number of unpacked features    : 17\n",
       "  \n",
       "  Hyperparameters\n",
       "  ---------------\n",
       "  L1 penalty                     : 3792690190.7323\n",
       "  L2 penalty                     : 0.0\n",
       "  \n",
       "  Training Summary\n",
       "  ----------------\n",
       "  Solver                         : fista\n",
       "  Solver iterations              : 10\n",
       "  Solver status                  : Completed (Iteration limit reached).\n",
       "  Training time (sec)            : 0.499\n",
       "  \n",
       "  Settings\n",
       "  --------\n",
       "  Residual sum of squares        : 1231892900127879.0\n",
       "  Training RMSE                  : 357153.9788\n",
       "  \n",
       "  Highest Positive Coefficients\n",
       "  -----------------------------\n",
       "  (intercept)                    : 240309.7593\n",
       "  bathrooms                      : 13840.64\n",
       "  grade                          : 2265.1205\n",
       "  sqft_living_sqrt               : 592.1995\n",
       "  sqft_living                    : 30.5584\n",
       "  \n",
       "  Lowest Negative Coefficients\n",
       "  ----------------------------\n",
       "  No Negative Coefficients       : }]"
      ]
     },
     "execution_count": 50,
     "metadata": {},
     "output_type": "execute_result"
    }
   ],
   "source": [
    "lowest_rss = np.inf\n",
    "lowest_l1 = None\n",
    "models = []\n",
    "for l1 in np.linspace(l1_penalty_min, l1_penalty_max, num=20):\n",
    "    model = turicreate.linear_regression.create(training, target='price', features=all_features,\n",
    "                                                    validation_set=None, l2_penalty=0., l1_penalty=l1, verbose=False)\n",
    "    errors = model.predict(validation) - validation['price']\n",
    "    RSS = np.dot(errors, errors)\n",
    "    non_zeros = model.coefficients['value'].nnz()\n",
    "    \n",
    "    m = {\n",
    "        'name': l1,\n",
    "        'non_zeros': non_zeros,\n",
    "        'RSS': RSS,\n",
    "        'model': model\n",
    "    }\n",
    "    models.append(m)\n",
    "    if RSS < lowest_rss:\n",
    "        lowest_rss = RSS\n",
    "        lowest_l1 = l1\n",
    "\n",
    "print('lowest RSS was for L1 of : {}'.format(lowest_l1))\n",
    "print('lowest RSS was: {}'.format(lowest_rss))\n",
    "models = sorted(models, key=lambda x: x['RSS'])\n",
    "models"
   ]
  },
  {
   "cell_type": "markdown",
   "metadata": {},
   "source": [
    "***QUIZ QUESTIONS***\n",
    "1. What value of `l1_penalty` in our narrow range has the lowest RSS on the VALIDATION set and has sparsity *equal* to `max_nonzeros`?\n",
    "2. What features in this model have non-zero coefficients?"
   ]
  },
  {
   "cell_type": "code",
   "execution_count": 48,
   "metadata": {},
   "outputs": [
    {
     "data": {
      "text/plain": [
       "3448968612.163437"
      ]
     },
     "execution_count": 48,
     "metadata": {},
     "output_type": "execute_result"
    }
   ],
   "source": [
    "3448968612.163437\n"
   ]
  },
  {
   "cell_type": "code",
   "execution_count": 57,
   "metadata": {},
   "outputs": [
    {
     "name": "stdout",
     "output_type": "stream",
     "text": [
      "+------------------+-------+--------------------+--------+\n",
      "|       name       | index |       value        | stderr |\n",
      "+------------------+-------+--------------------+--------+\n",
      "|   (intercept)    |  None | 222253.1925443279  |  None  |\n",
      "|     bedrooms     |  None | 661.7227177822278  |  None  |\n",
      "| bedrooms_square  |  None |        0.0         |  None  |\n",
      "|    bathrooms     |  None |  15873.957259268   |  None  |\n",
      "|   sqft_living    |  None | 32.41022145125974  |  None  |\n",
      "| sqft_living_sqrt |  None | 690.1147733133166  |  None  |\n",
      "|     sqft_lot     |  None |        0.0         |  None  |\n",
      "|  sqft_lot_sqrt   |  None |        0.0         |  None  |\n",
      "|      floors      |  None |        0.0         |  None  |\n",
      "|  floors_square   |  None |        0.0         |  None  |\n",
      "|    waterfront    |  None |        0.0         |  None  |\n",
      "|       view       |  None |        0.0         |  None  |\n",
      "|    condition     |  None |        0.0         |  None  |\n",
      "|      grade       |  None | 2899.420269749878  |  None  |\n",
      "|    sqft_above    |  None | 30.011575302201138 |  None  |\n",
      "|  sqft_basement   |  None |        0.0         |  None  |\n",
      "|     yr_built     |  None |        0.0         |  None  |\n",
      "|   yr_renovated   |  None |        0.0         |  None  |\n",
      "+------------------+-------+--------------------+--------+\n",
      "[18 rows x 4 columns]\n",
      "\n"
     ]
    }
   ],
   "source": [
    "models[11]['model'].coefficients.print_rows(num_rows=1000)"
   ]
  },
  {
   "cell_type": "code",
   "execution_count": null,
   "metadata": {},
   "outputs": [],
   "source": []
  }
 ],
 "metadata": {
  "kernelspec": {
   "display_name": "Python 3",
   "language": "python",
   "name": "python3"
  },
  "language_info": {
   "codemirror_mode": {
    "name": "ipython",
    "version": 3
   },
   "file_extension": ".py",
   "mimetype": "text/x-python",
   "name": "python",
   "nbconvert_exporter": "python",
   "pygments_lexer": "ipython3",
   "version": "3.6.8"
  }
 },
 "nbformat": 4,
 "nbformat_minor": 1
}
